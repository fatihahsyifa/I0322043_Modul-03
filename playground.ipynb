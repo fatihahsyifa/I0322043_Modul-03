{
 "cells": [
  {
   "attachments": {},
   "cell_type": "markdown",
   "metadata": {},
   "source": [
    "### Instruksi:\n",
    "1. Buka buku Learn Python 3 The Hard Way.\n",
    "2. Di bawah ini ada Example dari beberapa Bab yang memuat Operator.\n",
    "3. Silakan kalian bisa latihan dengan melakukan dari yang diinstruksikan pada bagian \"Study Drill\" yang ada di bawah Example\n",
    "4. Bisa dibaca-baca bukunya agar mendapatkan wawasan lebih dari apa yang asisten berikan"
   ]
  },
  {
   "attachments": {},
   "cell_type": "markdown",
   "metadata": {},
   "source": [
    " "
   ]
  },
  {
   "attachments": {},
   "cell_type": "markdown",
   "metadata": {},
   "source": [
    "3: Numbers and Math"
   ]
  },
  {
   "cell_type": "code",
   "execution_count": 1,
   "metadata": {},
   "outputs": [
    {
     "name": "stdout",
     "output_type": "stream",
     "text": [
      "I will now count my chickens:\n",
      "Hens 30.0\n",
      "Roosters 97\n",
      "Now I will count the eggs:\n",
      "6.75\n",
      "Is it true that 3 + 2 < 5 - 7?\n",
      "False\n",
      "What is 3 + 2? 5\n",
      "What is 5 - 7? -2\n",
      "Oh, that's why it's False.\n",
      "How about some more.\n",
      "Is it greater? True\n",
      "Is it greater or equal? True\n",
      "Is it less or equal? False\n"
     ]
    }
   ],
   "source": [
    "# ex3: Numbers and Math\n",
    "\n",
    "print(\"I will now count my chickens:\")\n",
    "\n",
    "print(\"Hens\", 25 + 30 / 6)\n",
    "print(\"Roosters\", 100 -25 * 3 % 4)\n",
    "\n",
    "print(\"Now I will count the eggs:\")\n",
    "\n",
    "print(3 + 2 + 1 - 5 + 4 % 2 - 1 / 4 + 6)\n",
    "\n",
    "print(\"Is it true that 3 + 2 < 5 - 7?\")\n",
    "\n",
    "print(3 + 2 < 5 - 7)\n",
    "\n",
    "print(\"What is 3 + 2?\", 3 + 2)\n",
    "\n",
    "print(\"What is 5 - 7?\", 5 - 7)\n",
    "\n",
    "print(\"Oh, that's why it's False.\")\n",
    "\n",
    "print(\"How about some more.\")\n",
    "\n",
    "print(\"Is it greater?\", 5 > -2)\n",
    "print(\"Is it greater or equal?\", 5 >= -2)\n",
    "print(\"Is it less or equal?\", 5 <= -2)"
   ]
  },
  {
   "cell_type": "code",
   "execution_count": null,
   "metadata": {},
   "outputs": [],
   "source": [
    "# Kerjakan Study Drill 3 di sini\n",
    "# print string yang diberikan\n",
    "print(\"I will now count my chickens:\")\n",
    "\n",
    "# print string yang diberikan\n",
    "# menghitung operasi dengan hasil 30.0 (float)\n",
    "print(\"Hens\", 25 + 30 / 6)\n",
    "# print string yang diberikan dan\n",
    "# menghitung operasi dengan hasil 97\n",
    "print(\"Roosters\", 100 - 25 * 3 % 4)\n",
    "\n",
    "#print string kalimat\n",
    "print(\"Now I will count the eggs:\")\n",
    "\n",
    "# print dan menghitung operasi dengan hasil 6.75(float)\n",
    "print(3 + 2 + 1 - 5 + 4 % 2 < 5 - 7)\n",
    "\n",
    "# print string kalimat pertanyaan\n",
    "print(\"Is it true that 3 + 2 < 5 - 7?\")\n",
    "\n",
    "# pernyataan hasil perbandingan ( 5 < -2 adalah False)\n",
    "print(3 + 2 < 5 - 7)\n",
    "\n",
    "# print string pertanyaan\n",
    "# menghitung operasi dengan hasil 5\n",
    "print(\"What is 3 + 2?\", 3 + 2)\n",
    "# print string yang pertanyaan\n",
    "# menghitung operasi dengan hasil -2\n",
    "print(\"What is 5 - 7?\", 5 - 7)\n",
    "# print string kalimat pernyataan\n",
    "print(\"Oh, that's why it's False.\")\n",
    "\n",
    "# print string \n",
    "print(\"How about some more.\")\n",
    "\n",
    "# print string pertanyaan\n",
    "# pernyataan hasil perbandingan (True)\n",
    "print(\"Is it greater?\", 5 > -2)\n",
    "# print string\n",
    "# pernyataan hasil perbandingan (True)\n",
    "print(\"Is it greater or equal?\", 5 >= -2)\n",
    "# print string yang diberikan dan \\\n",
    "# pernyataan hasil perbandingan (False)\n",
    "print(\"Is it less or equal?\", 5 <= -2)"
   ]
  },
  {
   "attachments": {},
   "cell_type": "markdown",
   "metadata": {},
   "source": [
    "4: Variables and Names"
   ]
  },
  {
   "cell_type": "code",
   "execution_count": null,
   "metadata": {},
   "outputs": [],
   "source": [
    "cars = 100\n",
    "space_in_a_car = 4.0\n",
    "drivers = 30\n",
    "passengers = 90\n",
    "cars_not_driven = cars - drivers\n",
    "cars_driven = drivers\n",
    "carpool_capacity = cars_driven * space_in_a_car\n",
    "average_passengers_per_car = passengers / cars_driven\n",
    "\n",
    "print(\"There are\", cars, \"cars available.\")\n",
    "print(\"There are only\", drivers, \"drivers available.\")\n",
    "print(\"There will be\", cars_not_driven, \"empty cars today.\")\n",
    "print(\"We can transport\", carpool_capacity, \"people today.\")\n",
    "print(\"We have\", passengers, \"to carpool today.\")\n",
    "print(\"We need to put about\", average_passengers_per_car, \"in each car.\")"
   ]
  },
  {
   "cell_type": "code",
   "execution_count": null,
   "metadata": {},
   "outputs": [],
   "source": [
    "# Kerjakan Study Drill 4 di sini\n",
    "# Menyatakan variabel cars = 100 \n",
    "cars = 100\n",
    "# Menyatakan variabel space_in_a_car = 4.0 (float agar mudah jika ada pembagian)\n",
    "space_in_a_car = 4.0\n",
    "# Menyatakan variabel drivers = 30\n",
    "drivers = 30\n",
    "# Menyatakan variabel passengers = 90\n",
    "passengers = 90\n",
    "# Menyatakan variabel cars_not_driven berupa operasi pengurangan cars - drivers \n",
    "cars_not_driven = cars - drivers\n",
    "# Menyatakan variabel cars_driven = drivers (variabel sebelumnya)\n",
    "cars_driven = drivers\n",
    "# Menyatakan variabel carpool_capacity berupa operasi perkalian (cars_driven * space_in_a_car)\n",
    "carpool_capacity = cars_driven * space_in_a_car\n",
    "# Menyatakan variabel average_passengers_per_car berupa operasi pembagian (passengers/cars_driven )\n",
    "average_passengers_per_car = passengers / cars_driven\n",
    "\n",
    "# Print string yang diberikan dan variabel cars\n",
    "print(\"There are\", cars, \"cars available.\")\n",
    "# Print string yang diberikan dan variabel drivers\n",
    "print(\"There are only\", drivers, \"drivers available.\")\n",
    "# Print string yang diberikan dan variabel cars_not_driven\n",
    "print(\"There will be\", cars_not_driven, \"empty cars today.\")\n",
    "# Print string yang diberikan dan variabel carpool_capacity\n",
    "print(\"We can transport\", carpool_capacity, \"people today.\")\n",
    "# Print string yang diberikan dan variabel passengers\n",
    "print(\"We have\", passengers, \"to carpool today.\")\n",
    "# Print string yang diberikan dan variabel average_passengers_per_car\n",
    "print(\"We need to put about\", average_passengers_per_car, \"in each car.\")"
   ]
  },
  {
   "attachments": {},
   "cell_type": "markdown",
   "metadata": {},
   "source": [
    "### Instruksi:\n",
    "1. Tulis ulang kode contoh di atasnya dengan sebelumnya artikan dengan command (#)"
   ]
  },
  {
   "attachments": {},
   "cell_type": "markdown",
   "metadata": {},
   "source": [
    "Contoh\n",
    "\n",
    "Tulis program Python yang dapat menghitung luas dari Lingkaran dengan jari-jari yang diinput!"
   ]
  },
  {
   "cell_type": "code",
   "execution_count": null,
   "metadata": {},
   "outputs": [],
   "source": [
    "from math import pi\n",
    "r = float(input (\"Input the radius of the circle : \"))\n",
    "print (\"The area of the circle with radius \" + str(r) + \" is: \" + str(pi * r**2))"
   ]
  },
  {
   "cell_type": "code",
   "execution_count": null,
   "metadata": {},
   "outputs": [],
   "source": [
    "# import pi dari math library\n",
    "from math import pi\n",
    "\n",
    "# membuat variabel untuk user menginputkan nilai jari-jari\n",
    "r = float(input (\"Masukkan jari-jari lingkaran: \"))\n",
    "\n",
    "# Mem-print nilai luas lingkaran sekaligus menghitungnya\n",
    "print (\"Luas lingkaran dengan jari-jari \" + str(r) + \" adalah: \" + str(pi * r**2))"
   ]
  },
  {
   "attachments": {},
   "cell_type": "markdown",
   "metadata": {},
   "source": [
    "5: Tulis program Python untuk tambah, kurang, kali, dan bagi dari dua buah pecahan"
   ]
  },
  {
   "cell_type": "code",
   "execution_count": null,
   "metadata": {},
   "outputs": [],
   "source": [
    "import fractions\n",
    "\n",
    "f1 = fractions.Fraction(2, 3)\n",
    "f2 = fractions.Fraction(3, 7)\n",
    "\n",
    "print('{} + {} = {}'.format(f1, f2, f1 + f2))\n",
    "print('{} - {} = {}'.format(f1, f2, f1 - f2))\n",
    "print('{} * {} = {}'.format(f1, f2, f1 * f2))\n",
    "print('{} / {} = {}'.format(f1, f2, f1 / f2))"
   ]
  },
  {
   "cell_type": "code",
   "execution_count": null,
   "metadata": {},
   "outputs": [],
   "source": [
    "# Kerjakan Study Drill 5 di sini\n",
    "# Impor modul fractions dari library\n",
    "import fractions\n",
    "\n",
    "# operasi fractions.Fraction menjalankan perintah Fraction dari modul fractions\n",
    "# Fraction(a,b) mengembalikan a / b dalam bentuk pecahan\n",
    "# menyatakan variabel f1 sebagai pecahan 2 / 3\n",
    "f1 = fractions.Fraction(2, 3)\n",
    "# menyatakan variabel f2 sebagai pecahan 3 / 7\n",
    "f2 = fractions.Fraction(3, 7)\n",
    "\n",
    "# print string format yang mengembalikan nilai f1, f2, dan f1 + f2\n",
    "print('{} + {} = {}'.format(f1, f2, f1 + f2))\n",
    "# print string format yang mengembalikan nilai f1, f2, dan f1 - f2\n",
    "print('{} - {} = {}'.format(f1, f2, f1 - f2))\n",
    "# print string format yang mengembalikan nilai f1, f2, dan f1 * f2\n",
    "print('{} * {} = {}'.format(f1, f2, f1 * f2))\n",
    "# print string format yang mengembalikan nilai f1, f2, dan f1 / f2\n",
    "print('{} / {} = {}'.format(f1, f2, f1 / f2))"
   ]
  },
  {
   "attachments": {},
   "cell_type": "markdown",
   "metadata": {},
   "source": [
    "6: Tulis program Python yang akan menghitung luas dari segitiga dengan alas dan tinggi yang kamu inputkan!"
   ]
  },
  {
   "cell_type": "code",
   "execution_count": null,
   "metadata": {},
   "outputs": [],
   "source": [
    "b = int(input(\"Input alas : \"))\n",
    "h = int(input(\"Input tinggi : \"))\n",
    "\n",
    "luas = b*h/2\n",
    "\n",
    "print(\"luas = \", luas)"
   ]
  },
  {
   "cell_type": "code",
   "execution_count": null,
   "metadata": {},
   "outputs": [],
   "source": [
    "# Kerjakan Study Drill 6 di sini\n",
    "# variabel b dinyatakan dengan input user berupa integer\n",
    "b = int(input(\"Input alas : \"))\n",
    "# variabel h dinyatakan dengan input user berupa integer\n",
    "h = int(input(\"Input tinggi : \"))\n",
    "\n",
    "# variabel luas menyatakan rumus luas segitiga\n",
    "luas = b*h/2\n",
    "\n",
    "# print string dan variabel luas\n",
    "print(\"luas = \", luas)"
   ]
  },
  {
   "attachments": {},
   "cell_type": "markdown",
   "metadata": {},
   "source": [
    "7: Tulis program Python yang dapat menghitung luas permukaan dan volume dari Tabung!"
   ]
  },
  {
   "cell_type": "code",
   "execution_count": null,
   "metadata": {},
   "outputs": [],
   "source": [
    "pi=22/7\n",
    "tinggi = float(input('Tinggi dari Tabung: '))\n",
    "jarijari = float(input('Jari-jari dari Tabung: '))\n",
    "volume = pi * jarijari * jarijari * tinggi\n",
    "lp = ((2*pi*jarijari) * tinggi) + ((pi*jarijari**2)*2)\n",
    "print(\"Volume tabung adalah: \", volume)\n",
    "print(\"Luas permukaan tabung adalah: \", lp)"
   ]
  },
  {
   "cell_type": "code",
   "execution_count": null,
   "metadata": {},
   "outputs": [],
   "source": [
    "# Kerjakan Study Drill 7 di sini\n",
    "# menyatakan pi = 22 / 7\n",
    "pi=22/7\n",
    "\n",
    "# variabel tinggi dinyatakan dengan input user berupa float\n",
    "tinggi = float(input('Tinggi dari Tabung: '))\n",
    "# variabel jarijari dinyatakan dengan input user berupa float\n",
    "jarijari = float(input('Jari-jari dari Tabung: '))\n",
    "# variabel volume dinyatakn dengan rumus pi * r * r * t\n",
    "volume = pi * jarijari * jarijari * tinggi\n",
    "# variabel lp (luas permukaan tabung) dinyatakan dengan rumus (2*pi*r*t) + (pi * r**2)*2 \n",
    "lp = ((2*pi*jarijari) * tinggi) + ((pi*jarijari**2)*2)\n",
    "\n",
    "# print string dan variabel volume\n",
    "print(\"Volume tabung adalah: \", volume)\n",
    "# print string dan variabel lp\n",
    "print(\"Luas permukaan tabung adalah: \", lp)"
   ]
  },
  {
   "attachments": {},
   "cell_type": "markdown",
   "metadata": {},
   "source": [
    "8: Tulis program Python untuk mendapatkan akar pangkat dua dan pangkat dari nilai desimal yang diberikan!"
   ]
  },
  {
   "cell_type": "code",
   "execution_count": null,
   "metadata": {},
   "outputs": [],
   "source": [
    "from decimal import *\n",
    "x = Decimal('1.44')\n",
    "print(\"Akar pangkat dua dari\",x, \"adalah :\", x.sqrt())\n",
    "print(\"Pangkat dua dari\",x, \" adalah :\", x.exp())\n"
   ]
  },
  {
   "cell_type": "code",
   "execution_count": null,
   "metadata": {},
   "outputs": [],
   "source": [
    "# Kerjakan Study Drill 8 di sini\n",
    "# Mengimpor semua fungsi dalam modul decimal\n",
    "from decimal import *\n",
    "\n",
    "# Decimal mengembalikan string float menjadi literal float\n",
    "# Variabel x dinyatakan dengan mengembalikan literal float 1.44 \n",
    "x = Decimal('1.44')\n",
    "# print string, variabel x, dan akar kuadrat x\n",
    "# x.sqrt() mengembalikan akar kuadrat dari x\n",
    "print(\"Akar pangkat dua dari\",x, \"adalah :\", x.sqrt())\n",
    "# print string yang diberikan, variabel x, dan e pangkat x\n",
    "# x.exp() mengembalikan e pangkat x, e = 2.7182...\n",
    "print(\"Pangkat dua dari\",x, \" adalah :\", x.exp())"
   ]
  },
  {
   "attachments": {},
   "cell_type": "markdown",
   "metadata": {},
   "source": [
    "9: Tulis program Python yang dapat menentukan apakah benar bilangan tersebut LEBIH BESAR dari 4^4 DAN jika di-MODULUS-kan 34 hasilnya adalah 4!"
   ]
  },
  {
   "cell_type": "code",
   "execution_count": null,
   "metadata": {},
   "outputs": [],
   "source": [
    "def test(n):\n",
    "    return n % 34 == 4 and n > 4 ** 4\n",
    "\n",
    "n = 922\n",
    "print(\"Original Integer:\")\n",
    "print(n)\n",
    "print(\"Apakah benar integer tersebut lebih besar dari 4^4 dan hasilnya 4 jika di-mod-kan dengan 34:\")\n",
    "\n",
    "print(test(n))\n",
    "\n",
    "n = 914\n",
    "print(\"\\nOriginal Integer:\")\n",
    "print(n)\n",
    "print(\"Apakah benar integer tersebut lebih besar dari 4^4 dan hasilnya 4 jika di-mod-kan dengan 34:\")\n",
    "print(test(n))\n",
    "\n",
    "n = 854\n",
    "print(\"\\nOriginal Integer:\")\n",
    "print(n)\n",
    "print(\"Apakah benar integer tersebut lebih besar dari 4^4 dan hasilnya 4 jika di-mod-kan dengan 34:\")\n",
    "print(test(n))"
   ]
  },
  {
   "cell_type": "code",
   "execution_count": null,
   "metadata": {},
   "outputs": [],
   "source": [
    "# Kerjakan Study Drill 9 di sini\n",
    "## Kalian bisa coba membuktikan dengan menghitung hasil dari 4^4 dan mod 34 dari bilangan integernya\n",
    "# Menyatakan sebuah fungsi test dengan satu variabel n\n",
    "def test(n):\n",
    "# Mengembalikan (return) sebuah pernyataan yang didapat dari logika AND, yang berbentuk\n",
    "    # (n mod 34) = 4 AND n > (4 pangkat 4 = 256) \n",
    "    return n % 34 == 4 and n > 4 ** 4\n",
    "\n",
    "# Menyatakan n = 922\n",
    "n = 922\n",
    "# print string yang diberikan dan n, semua di baris terpisah\n",
    "print(\"Original Integer:\")\n",
    "print(n)\n",
    "print(\"Apakah benar integer tersebut lebih besar dari 4^4 dan hasilnya 4 jika di-mod-kan dengan 34:\")\n",
    "\n",
    "# Menjalankan fungsi test dengan n = 922, hasil return (True AND True) adalah True\n",
    "print(test(n))\n",
    "\n",
    "# Menyatakan n = 914\n",
    "n = 914\n",
    "# print string yang diberikan dan n, semua di baris terpisah\n",
    "print(\"\\nOriginal Integer:\")\n",
    "print(n)\n",
    "print(\"Apakah benar integer tersebut lebih besar dari 4^4 dan hasilnya 4 jika di-mod-kan dengan 34:\")\n",
    "\n",
    "# Menjalankan fungsi test dengan n = 914, hasil return (False AND True) adalah False\n",
    "print(test(n))\n",
    "\n",
    "# Menyatakan n = 854\n",
    "n = 854\n",
    "# print string yang diberikan dan n, semua di baris terpisah\n",
    "print(\"\\nOriginal Integer:\")\n",
    "print(n)\n",
    "print(\"Apakah benar integer tersebut lebih besar dari 4^4 dan hasilnya 4 jika di-mod-kan dengan 34:\")\n",
    "\n",
    "# Menjalankan fungsi test dengan n = 914, hasil return (True AND True) adalah True\n",
    "print(test(n))"
   ]
  },
  {
   "attachments": {},
   "cell_type": "markdown",
   "metadata": {},
   "source": [
    "10: Tulis program Python yang dapat menyimpan nama depan dan nama belakang user dan mem-print-nya dengan dibalik antara keduanya!\n"
   ]
  },
  {
   "cell_type": "code",
   "execution_count": null,
   "metadata": {},
   "outputs": [],
   "source": [
    "fname = input(\"Input your First Name : \")\n",
    "lname = input(\"Input your Last Name : \")\n",
    "print (\"Hello  \" + lname + \" \" + fname)"
   ]
  },
  {
   "cell_type": "code",
   "execution_count": null,
   "metadata": {},
   "outputs": [],
   "source": [
    "# Kerjakan Study Drill 10 di sini\n",
    "# Variabel fname dinyatakan dengan input user berupa string\n",
    "fname = input(\"Input your First Name : \")\n",
    "# variabel lname dinyatakan dengan input user berupa string\n",
    "lname = input(\"Input your Last Name : \")\n",
    "# print string yang diberikan, kemudian penambahan variabel lname dan fname\n",
    "# yang dipisahkan oleh spasi\n",
    "print (\"Hello \" + lname + \" \" + fname)"
   ]
  }
 ],
 "metadata": {
  "kernelspec": {
   "display_name": "Python 3",
   "language": "python",
   "name": "python3"
  },
  "language_info": {
   "codemirror_mode": {
    "name": "ipython",
    "version": 3
   },
   "file_extension": ".py",
   "mimetype": "text/x-python",
   "name": "python",
   "nbconvert_exporter": "python",
   "pygments_lexer": "ipython3",
   "version": "3.10.8"
  },
  "orig_nbformat": 4
 },
 "nbformat": 4,
 "nbformat_minor": 2
}
